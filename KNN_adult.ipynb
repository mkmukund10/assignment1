{
 "cells": [
  {
   "cell_type": "code",
   "execution_count": 1,
   "metadata": {},
   "outputs": [
    {
     "name": "stdout",
     "output_type": "stream",
     "text": [
      "None\n"
     ]
    }
   ],
   "source": [
    "import pandas as pd\n",
    "import numpy as np\n",
    "from sklearn.model_selection import train_test_split, GridSearchCV\n",
    "from sklearn.tree import DecisionTreeClassifier\n",
    "from sklearn.neighbors import KNeighborsClassifier\n",
    "from sklearn.metrics import make_scorer, accuracy_score\n",
    "from sklearn.utils import compute_sample_weight\n",
    "from sklearn.metrics import balanced_accuracy_score\n",
    "from plot_learning_curve import plot_learning_curve, plot_validation_curve\n",
    "import matplotlib.pyplot as plt\n",
    "from sklearn import preprocessing"
   ]
  },
  {
   "cell_type": "markdown",
   "metadata": {},
   "source": [
    "### Loading and Preprocessing Data "
   ]
  },
  {
   "cell_type": "code",
   "execution_count": 2,
   "metadata": {},
   "outputs": [
    {
     "data": {
      "text/html": [
       "<div>\n",
       "<style scoped>\n",
       "    .dataframe tbody tr th:only-of-type {\n",
       "        vertical-align: middle;\n",
       "    }\n",
       "\n",
       "    .dataframe tbody tr th {\n",
       "        vertical-align: top;\n",
       "    }\n",
       "\n",
       "    .dataframe thead th {\n",
       "        text-align: right;\n",
       "    }\n",
       "</style>\n",
       "<table border=\"1\" class=\"dataframe\">\n",
       "  <thead>\n",
       "    <tr style=\"text-align: right;\">\n",
       "      <th></th>\n",
       "      <th>age</th>\n",
       "      <th>workclass</th>\n",
       "      <th>fnlwgt</th>\n",
       "      <th>education</th>\n",
       "      <th>education-num</th>\n",
       "      <th>marital-status</th>\n",
       "      <th>occupation</th>\n",
       "      <th>relationship</th>\n",
       "      <th>race</th>\n",
       "      <th>sex</th>\n",
       "      <th>capital-gain</th>\n",
       "      <th>capital-loss</th>\n",
       "      <th>hours-per-week</th>\n",
       "      <th>native-country</th>\n",
       "      <th>target</th>\n",
       "    </tr>\n",
       "  </thead>\n",
       "  <tbody>\n",
       "    <tr>\n",
       "      <th>0</th>\n",
       "      <td>42.0</td>\n",
       "      <td>4</td>\n",
       "      <td>308770.0</td>\n",
       "      <td>15</td>\n",
       "      <td>10.0</td>\n",
       "      <td>2</td>\n",
       "      <td>1</td>\n",
       "      <td>0</td>\n",
       "      <td>2</td>\n",
       "      <td>1</td>\n",
       "      <td>0.0</td>\n",
       "      <td>0.0</td>\n",
       "      <td>40.0</td>\n",
       "      <td>39</td>\n",
       "      <td>0</td>\n",
       "    </tr>\n",
       "    <tr>\n",
       "      <th>1</th>\n",
       "      <td>23.0</td>\n",
       "      <td>4</td>\n",
       "      <td>520231.0</td>\n",
       "      <td>15</td>\n",
       "      <td>10.0</td>\n",
       "      <td>4</td>\n",
       "      <td>10</td>\n",
       "      <td>1</td>\n",
       "      <td>4</td>\n",
       "      <td>0</td>\n",
       "      <td>0.0</td>\n",
       "      <td>0.0</td>\n",
       "      <td>45.0</td>\n",
       "      <td>39</td>\n",
       "      <td>1</td>\n",
       "    </tr>\n",
       "    <tr>\n",
       "      <th>2</th>\n",
       "      <td>27.0</td>\n",
       "      <td>4</td>\n",
       "      <td>164924.0</td>\n",
       "      <td>11</td>\n",
       "      <td>9.0</td>\n",
       "      <td>4</td>\n",
       "      <td>3</td>\n",
       "      <td>1</td>\n",
       "      <td>4</td>\n",
       "      <td>1</td>\n",
       "      <td>0.0</td>\n",
       "      <td>0.0</td>\n",
       "      <td>40.0</td>\n",
       "      <td>39</td>\n",
       "      <td>1</td>\n",
       "    </tr>\n",
       "    <tr>\n",
       "      <th>3</th>\n",
       "      <td>29.0</td>\n",
       "      <td>6</td>\n",
       "      <td>198286.0</td>\n",
       "      <td>9</td>\n",
       "      <td>13.0</td>\n",
       "      <td>4</td>\n",
       "      <td>10</td>\n",
       "      <td>1</td>\n",
       "      <td>4</td>\n",
       "      <td>0</td>\n",
       "      <td>0.0</td>\n",
       "      <td>0.0</td>\n",
       "      <td>40.0</td>\n",
       "      <td>39</td>\n",
       "      <td>1</td>\n",
       "    </tr>\n",
       "    <tr>\n",
       "      <th>4</th>\n",
       "      <td>32.0</td>\n",
       "      <td>4</td>\n",
       "      <td>197505.0</td>\n",
       "      <td>11</td>\n",
       "      <td>9.0</td>\n",
       "      <td>4</td>\n",
       "      <td>1</td>\n",
       "      <td>3</td>\n",
       "      <td>4</td>\n",
       "      <td>0</td>\n",
       "      <td>0.0</td>\n",
       "      <td>0.0</td>\n",
       "      <td>40.0</td>\n",
       "      <td>39</td>\n",
       "      <td>1</td>\n",
       "    </tr>\n",
       "  </tbody>\n",
       "</table>\n",
       "</div>"
      ],
      "text/plain": [
       "    age  workclass    fnlwgt  education  education-num  marital-status  \\\n",
       "0  42.0          4  308770.0         15           10.0               2   \n",
       "1  23.0          4  520231.0         15           10.0               4   \n",
       "2  27.0          4  164924.0         11            9.0               4   \n",
       "3  29.0          6  198286.0          9           13.0               4   \n",
       "4  32.0          4  197505.0         11            9.0               4   \n",
       "\n",
       "   occupation  relationship  race  sex  capital-gain  capital-loss  \\\n",
       "0           1             0     2    1           0.0           0.0   \n",
       "1          10             1     4    0           0.0           0.0   \n",
       "2           3             1     4    1           0.0           0.0   \n",
       "3          10             1     4    0           0.0           0.0   \n",
       "4           1             3     4    0           0.0           0.0   \n",
       "\n",
       "   hours-per-week  native-country  target  \n",
       "0            40.0              39       0  \n",
       "1            45.0              39       1  \n",
       "2            40.0              39       1  \n",
       "3            40.0              39       1  \n",
       "4            40.0              39       1  "
      ]
     },
     "execution_count": 2,
     "metadata": {},
     "output_type": "execute_result"
    }
   ],
   "source": [
    "adult_train = pd.read_csv(\"adult-t.tsv\", sep = \"\\t\")\n",
    "adult_train.head()"
   ]
  },
  {
   "cell_type": "code",
   "execution_count": 3,
   "metadata": {},
   "outputs": [
    {
     "data": {
      "text/plain": [
       "(10000, 93)"
      ]
     },
     "execution_count": 3,
     "metadata": {},
     "output_type": "execute_result"
    }
   ],
   "source": [
    "adult_train = pd.get_dummies(adult_train, columns=['workclass', 'sex', 'occupation', 'relationship', 'race', 'native-country', 'marital-status'])\n",
    "adult_train.shape"
   ]
  },
  {
   "cell_type": "code",
   "execution_count": 4,
   "metadata": {},
   "outputs": [],
   "source": [
    "normalize_columns = ['age', 'fnlwgt', 'capital-gain','capital-loss','hours-per-week']\n",
    "def normalize(columns):\n",
    "  scaler = preprocessing.StandardScaler()\n",
    "  adult_train[columns] = scaler.fit_transform(adult_train[columns])\n",
    "normalize(normalize_columns)"
   ]
  },
  {
   "cell_type": "code",
   "execution_count": 5,
   "metadata": {},
   "outputs": [],
   "source": [
    "X = adult_train[[c for c in adult_train.columns if c != 'target']]\n",
    "y = adult_train['target']\n",
    "X_train, X_test, y_train, y_test = train_test_split(X, y, test_size=0.3, stratify=y, random_state=1)"
   ]
  },
  {
   "cell_type": "markdown",
   "metadata": {},
   "source": [
    "### Trying KNN Classifier without HyperParameter tunings"
   ]
  },
  {
   "cell_type": "code",
   "execution_count": 6,
   "metadata": {},
   "outputs": [],
   "source": [
    "base_clf = KNeighborsClassifier()"
   ]
  },
  {
   "cell_type": "code",
   "execution_count": 7,
   "metadata": {},
   "outputs": [
    {
     "name": "stdout",
     "output_type": "stream",
     "text": [
      "Train Accuracy:  0.8137178768137826\n",
      "Test Accuracy:  0.7385119945573402\n"
     ]
    }
   ],
   "source": [
    "base_clf.fit(X_train, y_train)\n",
    "y_train_pred = base_clf.predict(X_train)\n",
    "y_test_pred = base_clf.predict(X_test)\n",
    "print(\"Train Accuracy: \", balanced_accuracy_score(y_train, y_train_pred))\n",
    "print(\"Test Accuracy: \", balanced_accuracy_score(y_test, y_test_pred))"
   ]
  },
  {
   "cell_type": "code",
   "execution_count": 8,
   "metadata": {},
   "outputs": [
    {
     "data": {
      "text/plain": [
       "{'algorithm': 'auto',\n",
       " 'leaf_size': 30,\n",
       " 'metric': 'minkowski',\n",
       " 'metric_params': None,\n",
       " 'n_jobs': None,\n",
       " 'n_neighbors': 5,\n",
       " 'p': 2,\n",
       " 'weights': 'uniform'}"
      ]
     },
     "execution_count": 8,
     "metadata": {},
     "output_type": "execute_result"
    }
   ],
   "source": [
    "base_clf.get_params()"
   ]
  },
  {
   "cell_type": "markdown",
   "metadata": {},
   "source": [
    "### Generate Learning Curve & Validation Curve with default classifier"
   ]
  },
  {
   "cell_type": "code",
   "execution_count": 9,
   "metadata": {},
   "outputs": [
    {
     "data": {
      "image/png": "[encoded data removed]",
      "text/plain": [
       "<Figure size 432x288 with 1 Axes>"
      ]
     },
     "metadata": {
      "needs_background": "light"
     },
     "output_type": "display_data"
    }
   ],
   "source": [
    "plot_learning_curve(base_clf, \"Learning curve-KNN Adult\", X_train, y_train, ylim=None, cv=4, n_jobs=-1)"
   ]
  },
  {
   "cell_type": "code",
   "execution_count": 10,
   "metadata": {},
   "outputs": [
    {
     "data": {
      "image/png": "[encoded data removed]",
      "text/plain": [
       "<Figure size 432x288 with 1 Axes>"
      ]
     },
     "metadata": {
      "needs_background": "light"
     },
     "output_type": "display_data"
    }
   ],
   "source": [
    "plot_validation_curve(base_clf, X_train, y_train, 'n_neighbors', np.arange(1, 30, 2), cv=4, n_jobs=-1, scoring=make_scorer(balanced_accuracy_score), title=\"Validation curve-KNN n_neighbors Adult\")"
   ]
  },
  {
   "cell_type": "markdown",
   "metadata": {},
   "source": [
    "### Conducting GridSearch to obtain best HyperParameters"
   ]
  },
  {
   "cell_type": "code",
   "execution_count": 11,
   "metadata": {},
   "outputs": [],
   "source": [
    "param_grid = {\n",
    "    'n_neighbors': np.arange(1, 200, 10),\n",
    "    'weights': ['uniform', 'distance'],\n",
    "    'metric': ['euclidean', 'manhattan', 'minkowski']\n",
    "}"
   ]
  },
  {
   "cell_type": "code",
   "execution_count": 12,
   "metadata": {},
   "outputs": [
    {
     "name": "stdout",
     "output_type": "stream",
     "text": [
      "Fitting 4 folds for each of 120 candidates, totalling 480 fits\n"
     ]
    },
    {
     "name": "stderr",
     "output_type": "stream",
     "text": [
      "[Parallel(n_jobs=-1)]: Using backend LokyBackend with 8 concurrent workers.\n",
      "[Parallel(n_jobs=-1)]: Done   2 tasks      | elapsed:    6.3s\n",
      "[Parallel(n_jobs=-1)]: Done   9 tasks      | elapsed:   13.2s\n",
      "[Parallel(n_jobs=-1)]: Done  16 tasks      | elapsed:   20.5s\n",
      "[Parallel(n_jobs=-1)]: Done  25 tasks      | elapsed:   29.0s\n",
      "[Parallel(n_jobs=-1)]: Done  34 tasks      | elapsed:   38.8s\n",
      "[Parallel(n_jobs=-1)]: Done  45 tasks      | elapsed:   49.8s\n",
      "[Parallel(n_jobs=-1)]: Done  56 tasks      | elapsed:  1.1min\n",
      "[Parallel(n_jobs=-1)]: Done  69 tasks      | elapsed:  1.3min\n",
      "[Parallel(n_jobs=-1)]: Done  82 tasks      | elapsed:  1.5min\n",
      "[Parallel(n_jobs=-1)]: Done  97 tasks      | elapsed:  1.6min\n",
      "[Parallel(n_jobs=-1)]: Done 112 tasks      | elapsed:  1.7min\n",
      "[Parallel(n_jobs=-1)]: Done 129 tasks      | elapsed:  1.9min\n",
      "[Parallel(n_jobs=-1)]: Done 146 tasks      | elapsed:  2.0min\n",
      "[Parallel(n_jobs=-1)]: Done 165 tasks      | elapsed:  2.1min\n",
      "[Parallel(n_jobs=-1)]: Done 184 tasks      | elapsed:  2.3min\n",
      "[Parallel(n_jobs=-1)]: Done 205 tasks      | elapsed:  2.4min\n",
      "[Parallel(n_jobs=-1)]: Done 226 tasks      | elapsed:  2.6min\n",
      "[Parallel(n_jobs=-1)]: Done 249 tasks      | elapsed:  2.9min\n",
      "[Parallel(n_jobs=-1)]: Done 272 tasks      | elapsed:  3.1min\n",
      "[Parallel(n_jobs=-1)]: Done 297 tasks      | elapsed:  3.4min\n",
      "[Parallel(n_jobs=-1)]: Done 322 tasks      | elapsed:  3.7min\n",
      "[Parallel(n_jobs=-1)]: Done 349 tasks      | elapsed:  4.1min\n",
      "[Parallel(n_jobs=-1)]: Done 376 tasks      | elapsed:  4.4min\n",
      "[Parallel(n_jobs=-1)]: Done 405 tasks      | elapsed:  4.9min\n",
      "[Parallel(n_jobs=-1)]: Done 434 tasks      | elapsed:  5.3min\n",
      "[Parallel(n_jobs=-1)]: Done 465 tasks      | elapsed:  5.8min\n",
      "[Parallel(n_jobs=-1)]: Done 480 out of 480 | elapsed:  6.0min finished\n"
     ]
    },
    {
     "data": {
      "text/plain": [
       "GridSearchCV(cv=4, estimator=KNeighborsClassifier(), n_jobs=-1,\n",
       "             param_grid={'metric': ['euclidean', 'manhattan', 'minkowski'],\n",
       "                         'n_neighbors': array([  1,  11,  21,  31,  41,  51,  61,  71,  81,  91, 101, 111, 121,\n",
       "       131, 141, 151, 161, 171, 181, 191]),\n",
       "                         'weights': ['uniform', 'distance']},\n",
       "             scoring=make_scorer(balanced_accuracy_score), verbose=10)"
      ]
     },
     "execution_count": 12,
     "metadata": {},
     "output_type": "execute_result"
    }
   ],
   "source": [
    "grid_search = GridSearchCV(base_clf, param_grid= param_grid, cv=4, scoring=make_scorer(balanced_accuracy_score), verbose=10, n_jobs=-1)\n",
    "grid_search.fit(X_train, y_train)"
   ]
  },
  {
   "cell_type": "code",
   "execution_count": 13,
   "metadata": {},
   "outputs": [
    {
     "data": {
      "text/plain": [
       "{'metric': 'euclidean', 'n_neighbors': 11, 'weights': 'distance'}"
      ]
     },
     "execution_count": 13,
     "metadata": {},
     "output_type": "execute_result"
    }
   ],
   "source": [
    "grid_search.best_params_"
   ]
  },
  {
   "cell_type": "code",
   "execution_count": 14,
   "metadata": {},
   "outputs": [
    {
     "data": {
      "text/plain": [
       "KNeighborsClassifier(metric='euclidean', n_neighbors=11, weights='distance')"
      ]
     },
     "execution_count": 14,
     "metadata": {},
     "output_type": "execute_result"
    }
   ],
   "source": [
    "grid_search.best_estimator_"
   ]
  },
  {
   "cell_type": "code",
   "execution_count": 15,
   "metadata": {},
   "outputs": [
    {
     "data": {
      "text/plain": [
       "0.7506820142499058"
      ]
     },
     "execution_count": 15,
     "metadata": {},
     "output_type": "execute_result"
    }
   ],
   "source": [
    "grid_search.best_score_"
   ]
  },
  {
   "cell_type": "markdown",
   "metadata": {},
   "source": [
    "### Generating Learning Curve with tuned Hyperparameters"
   ]
  },
  {
   "cell_type": "code",
   "execution_count": 20,
   "metadata": {},
   "outputs": [
    {
     "data": {
      "image/png": "[encoded data removed]",
      "text/plain": [
       "<Figure size 432x288 with 1 Axes>"
      ]
     },
     "metadata": {
      "needs_background": "light"
     },
     "output_type": "display_data"
    }
   ],
   "source": [
    "plot_learning_curve(KNeighborsClassifier(metric='euclidean', n_neighbors=11, weights='uniform'), \"Learning curve-KNN Adult Tuned\", X_train, y_train, ylim=None, cv=4, n_jobs=-1)"
   ]
  },
  {
   "cell_type": "markdown",
   "metadata": {},
   "source": [
    "### Fitting classifier with best parameters and calculating test score"
   ]
  },
  {
   "cell_type": "code",
   "execution_count": 21,
   "metadata": {},
   "outputs": [
    {
     "data": {
      "text/plain": [
       "{'algorithm': 'auto',\n",
       " 'leaf_size': 30,\n",
       " 'metric': 'euclidean',\n",
       " 'metric_params': None,\n",
       " 'n_jobs': None,\n",
       " 'n_neighbors': 11,\n",
       " 'p': 2,\n",
       " 'weights': 'uniform'}"
      ]
     },
     "execution_count": 21,
     "metadata": {},
     "output_type": "execute_result"
    }
   ],
   "source": [
    "#best_params = grid_search.cv_results_['params'][np.argmax(grid_search.cv_results_['mean_test_score'])]\n",
    "best_clf = KNeighborsClassifier(metric='euclidean', n_neighbors=11, weights='uniform')\n",
    "best_clf.get_params()"
   ]
  },
  {
   "cell_type": "code",
   "execution_count": 22,
   "metadata": {},
   "outputs": [
    {
     "name": "stdout",
     "output_type": "stream",
     "text": [
      "Train Accuracy:  0.7855603752106594\n",
      "Test Accuracy:  0.7413590380690389\n"
     ]
    }
   ],
   "source": [
    "best_clf.fit(X_train, y_train)\n",
    "y_train_pred = best_clf.predict(X_train)\n",
    "y_test_pred = best_clf.predict(X_test)\n",
    "print(\"Train Accuracy: \", balanced_accuracy_score(y_train, y_train_pred))\n",
    "print(\"Test Accuracy: \", balanced_accuracy_score(y_test, y_test_pred))"
   ]
  },
  {
   "cell_type": "code",
   "execution_count": null,
   "metadata": {},
   "outputs": [],
   "source": []
  }
 ],
 "metadata": {
  "kernelspec": {
   "display_name": "Python 3",
   "language": "python",
   "name": "python3"
  },
  "language_info": {
   "codemirror_mode": {
    "name": "ipython",
    "version": 3
   },
   "file_extension": ".py",
   "mimetype": "text/x-python",
   "name": "python",
   "nbconvert_exporter": "python",
   "pygments_lexer": "ipython3",
   "version": "3.8.5"
  }
 },
 "nbformat": 4,
 "nbformat_minor": 4
}
