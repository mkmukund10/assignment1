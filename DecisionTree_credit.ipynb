{
 "cells": [
  {
   "cell_type": "code",
   "execution_count": 1,
   "metadata": {},
   "outputs": [
    {
     "name": "stdout",
     "output_type": "stream",
     "text": [
      "None\n"
     ]
    }
   ],
   "source": [
    "import pandas as pd\n",
    "import numpy as np\n",
    "from sklearn.model_selection import train_test_split, GridSearchCV\n",
    "from sklearn.tree import DecisionTreeClassifier\n",
    "from sklearn.metrics import make_scorer, accuracy_score\n",
    "from sklearn.utils import compute_sample_weight\n",
    "from sklearn.metrics import balanced_accuracy_score\n",
    "from plot_learning_curve import plot_learning_curve, plot_validation_curve\n",
    "import matplotlib.pyplot as plt\n",
    "from sklearn import preprocessing"
   ]
  },
  {
   "cell_type": "markdown",
   "metadata": {},
   "source": [
    "### Loading and Preprocessing Data"
   ]
  },
  {
   "cell_type": "code",
   "execution_count": 2,
   "metadata": {},
   "outputs": [
    {
     "data": {
      "text/html": [
       "<div>\n",
       "<style scoped>\n",
       "    .dataframe tbody tr th:only-of-type {\n",
       "        vertical-align: middle;\n",
       "    }\n",
       "\n",
       "    .dataframe tbody tr th {\n",
       "        vertical-align: top;\n",
       "    }\n",
       "\n",
       "    .dataframe thead th {\n",
       "        text-align: right;\n",
       "    }\n",
       "</style>\n",
       "<table border=\"1\" class=\"dataframe\">\n",
       "  <thead>\n",
       "    <tr style=\"text-align: right;\">\n",
       "      <th></th>\n",
       "      <th>A1</th>\n",
       "      <th>A2</th>\n",
       "      <th>A3</th>\n",
       "      <th>A4</th>\n",
       "      <th>A5</th>\n",
       "      <th>A6</th>\n",
       "      <th>A7</th>\n",
       "      <th>A8</th>\n",
       "      <th>A9</th>\n",
       "      <th>A10</th>\n",
       "      <th>A11</th>\n",
       "      <th>A12</th>\n",
       "      <th>A13</th>\n",
       "      <th>A14</th>\n",
       "      <th>A15</th>\n",
       "      <th>target</th>\n",
       "    </tr>\n",
       "  </thead>\n",
       "  <tbody>\n",
       "    <tr>\n",
       "      <th>0</th>\n",
       "      <td>2</td>\n",
       "      <td>156</td>\n",
       "      <td>0.000</td>\n",
       "      <td>2</td>\n",
       "      <td>1</td>\n",
       "      <td>13</td>\n",
       "      <td>8</td>\n",
       "      <td>1.25</td>\n",
       "      <td>1</td>\n",
       "      <td>1</td>\n",
       "      <td>1.0</td>\n",
       "      <td>0</td>\n",
       "      <td>0</td>\n",
       "      <td>42</td>\n",
       "      <td>0.0</td>\n",
       "      <td>0</td>\n",
       "    </tr>\n",
       "    <tr>\n",
       "      <th>1</th>\n",
       "      <td>1</td>\n",
       "      <td>328</td>\n",
       "      <td>4.460</td>\n",
       "      <td>2</td>\n",
       "      <td>1</td>\n",
       "      <td>11</td>\n",
       "      <td>4</td>\n",
       "      <td>3.04</td>\n",
       "      <td>1</td>\n",
       "      <td>1</td>\n",
       "      <td>6.0</td>\n",
       "      <td>0</td>\n",
       "      <td>0</td>\n",
       "      <td>118</td>\n",
       "      <td>560.0</td>\n",
       "      <td>0</td>\n",
       "    </tr>\n",
       "    <tr>\n",
       "      <th>2</th>\n",
       "      <td>1</td>\n",
       "      <td>89</td>\n",
       "      <td>0.500</td>\n",
       "      <td>2</td>\n",
       "      <td>1</td>\n",
       "      <td>11</td>\n",
       "      <td>4</td>\n",
       "      <td>1.50</td>\n",
       "      <td>1</td>\n",
       "      <td>0</td>\n",
       "      <td>0.0</td>\n",
       "      <td>0</td>\n",
       "      <td>0</td>\n",
       "      <td>74</td>\n",
       "      <td>824.0</td>\n",
       "      <td>0</td>\n",
       "    </tr>\n",
       "    <tr>\n",
       "      <th>3</th>\n",
       "      <td>2</td>\n",
       "      <td>125</td>\n",
       "      <td>1.540</td>\n",
       "      <td>2</td>\n",
       "      <td>1</td>\n",
       "      <td>13</td>\n",
       "      <td>8</td>\n",
       "      <td>3.75</td>\n",
       "      <td>1</td>\n",
       "      <td>1</td>\n",
       "      <td>5.0</td>\n",
       "      <td>1</td>\n",
       "      <td>0</td>\n",
       "      <td>1</td>\n",
       "      <td>3.0</td>\n",
       "      <td>0</td>\n",
       "    </tr>\n",
       "    <tr>\n",
       "      <th>4</th>\n",
       "      <td>2</td>\n",
       "      <td>43</td>\n",
       "      <td>5.625</td>\n",
       "      <td>2</td>\n",
       "      <td>1</td>\n",
       "      <td>13</td>\n",
       "      <td>8</td>\n",
       "      <td>1.71</td>\n",
       "      <td>1</td>\n",
       "      <td>0</td>\n",
       "      <td>0.0</td>\n",
       "      <td>0</td>\n",
       "      <td>2</td>\n",
       "      <td>8</td>\n",
       "      <td>0.0</td>\n",
       "      <td>0</td>\n",
       "    </tr>\n",
       "  </tbody>\n",
       "</table>\n",
       "</div>"
      ],
      "text/plain": [
       "   A1   A2     A3  A4  A5  A6  A7    A8  A9  A10  A11  A12  A13  A14    A15  \\\n",
       "0   2  156  0.000   2   1  13   8  1.25   1    1  1.0    0    0   42    0.0   \n",
       "1   1  328  4.460   2   1  11   4  3.04   1    1  6.0    0    0  118  560.0   \n",
       "2   1   89  0.500   2   1  11   4  1.50   1    0  0.0    0    0   74  824.0   \n",
       "3   2  125  1.540   2   1  13   8  3.75   1    1  5.0    1    0    1    3.0   \n",
       "4   2   43  5.625   2   1  13   8  1.71   1    0  0.0    0    2    8    0.0   \n",
       "\n",
       "   target  \n",
       "0       0  \n",
       "1       0  \n",
       "2       0  \n",
       "3       0  \n",
       "4       0  "
      ]
     },
     "execution_count": 2,
     "metadata": {},
     "output_type": "execute_result"
    }
   ],
   "source": [
    "credit_train = pd.read_csv(\"credit-a.tsv\", sep = \"\\t\")\n",
    "credit_train.head()"
   ]
  },
  {
   "cell_type": "code",
   "execution_count": 3,
   "metadata": {},
   "outputs": [
    {
     "data": {
      "text/plain": [
       "(690, 16)"
      ]
     },
     "execution_count": 3,
     "metadata": {},
     "output_type": "execute_result"
    }
   ],
   "source": [
    "credit_train.shape"
   ]
  },
  {
   "cell_type": "code",
   "execution_count": 4,
   "metadata": {},
   "outputs": [
    {
     "data": {
      "text/plain": [
       "(690, 38)"
      ]
     },
     "execution_count": 4,
     "metadata": {},
     "output_type": "execute_result"
    }
   ],
   "source": [
    "credit_train = pd.get_dummies(credit_train, columns=['A1', 'A4', 'A5', 'A7', 'A9', 'A10', 'A12', 'A13'])\n",
    "credit_train.shape"
   ]
  },
  {
   "cell_type": "code",
   "execution_count": 5,
   "metadata": {},
   "outputs": [
    {
     "data": {
      "text/plain": [
       "1    0.555072\n",
       "0    0.444928\n",
       "Name: target, dtype: float64"
      ]
     },
     "execution_count": 5,
     "metadata": {},
     "output_type": "execute_result"
    }
   ],
   "source": [
    "credit_train['target'].value_counts()/credit_train.shape[0]"
   ]
  },
  {
   "cell_type": "code",
   "execution_count": 6,
   "metadata": {},
   "outputs": [],
   "source": [
    "normalize_columns = ['A2', 'A3', 'A6','A8', 'A11', 'A14']\n",
    "def normalize(columns):\n",
    "  scaler = preprocessing.StandardScaler()\n",
    "  credit_train[columns] = scaler.fit_transform(credit_train[columns])\n",
    "normalize(normalize_columns)"
   ]
  },
  {
   "cell_type": "code",
   "execution_count": 7,
   "metadata": {},
   "outputs": [],
   "source": [
    "X = credit_train[[c for c in credit_train.columns if c != 'target']]\n",
    "y = credit_train['target']\n",
    "X_train, X_test, y_train, y_test = train_test_split(X, y, test_size=0.3, stratify=y, random_state=1)"
   ]
  },
  {
   "cell_type": "markdown",
   "metadata": {},
   "source": [
    "### Trying DT Classifier without HyperParameter tunings"
   ]
  },
  {
   "cell_type": "code",
   "execution_count": 8,
   "metadata": {},
   "outputs": [],
   "source": [
    "base_clf = DecisionTreeClassifier()"
   ]
  },
  {
   "cell_type": "code",
   "execution_count": 9,
   "metadata": {},
   "outputs": [
    {
     "name": "stdout",
     "output_type": "stream",
     "text": [
      "Train Accuracy:  1.0\n",
      "Test Accuracy:  0.8271739130434783\n"
     ]
    }
   ],
   "source": [
    "base_clf.fit(X_train, y_train)\n",
    "y_train_pred = base_clf.predict(X_train)\n",
    "y_test_pred = base_clf.predict(X_test)\n",
    "print(\"Train Accuracy: \", balanced_accuracy_score(y_train, y_train_pred))\n",
    "print(\"Test Accuracy: \", balanced_accuracy_score(y_test, y_test_pred))"
   ]
  },
  {
   "cell_type": "code",
   "execution_count": 10,
   "metadata": {},
   "outputs": [
    {
     "data": {
      "text/plain": [
       "{'ccp_alpha': 0.0,\n",
       " 'class_weight': None,\n",
       " 'criterion': 'gini',\n",
       " 'max_depth': None,\n",
       " 'max_features': None,\n",
       " 'max_leaf_nodes': None,\n",
       " 'min_impurity_decrease': 0.0,\n",
       " 'min_impurity_split': None,\n",
       " 'min_samples_leaf': 1,\n",
       " 'min_samples_split': 2,\n",
       " 'min_weight_fraction_leaf': 0.0,\n",
       " 'presort': 'deprecated',\n",
       " 'random_state': None,\n",
       " 'splitter': 'best'}"
      ]
     },
     "execution_count": 10,
     "metadata": {},
     "output_type": "execute_result"
    }
   ],
   "source": [
    "base_clf.get_params()"
   ]
  },
  {
   "cell_type": "markdown",
   "metadata": {},
   "source": [
    "### Generate Learning Curve & Validation Curve with default classifier"
   ]
  },
  {
   "cell_type": "code",
   "execution_count": 11,
   "metadata": {},
   "outputs": [
    {
     "data": {
      "image/png": "[encoded data removed]",
      "text/plain": [
       "<Figure size 432x288 with 1 Axes>"
      ]
     },
     "metadata": {
      "needs_background": "light"
     },
     "output_type": "display_data"
    }
   ],
   "source": [
    "plot_learning_curve(base_clf, \"Learning curve-DT Credit\", X_train, y_train, ylim=None, cv=4, n_jobs=-1)"
   ]
  },
  {
   "cell_type": "code",
   "execution_count": 12,
   "metadata": {},
   "outputs": [
    {
     "data": {
      "image/png": "[encoded data removed]",
      "text/plain": [
       "<Figure size 432x288 with 1 Axes>"
      ]
     },
     "metadata": {
      "needs_background": "light"
     },
     "output_type": "display_data"
    }
   ],
   "source": [
    "plot_validation_curve(base_clf, X_train, y_train, 'max_depth', np.arange(1, 10, 1), cv=4, n_jobs=-1,scoring=make_scorer(balanced_accuracy_score), title=\"Validation curve-DT max_depth Credit\")"
   ]
  },
  {
   "cell_type": "code",
   "execution_count": 14,
   "metadata": {},
   "outputs": [
    {
     "data": {
      "image/png": "[encoded data removed]",
      "text/plain": [
       "<Figure size 432x288 with 1 Axes>"
      ]
     },
     "metadata": {
      "needs_background": "light"
     },
     "output_type": "display_data"
    }
   ],
   "source": [
    "plot_validation_curve(base_clf, X_train, y_train, 'ccp_alpha', np.arange(0.005, 0.03, 0.005), cv=4, n_jobs=-1, scoring=make_scorer(balanced_accuracy_score), title=\"Validation curve-DT ccp_alpha Credit\")"
   ]
  },
  {
   "cell_type": "code",
   "execution_count": 15,
   "metadata": {},
   "outputs": [
    {
     "data": {
      "image/png": "[encoded data removed]",
      "text/plain": [
       "<Figure size 432x288 with 1 Axes>"
      ]
     },
     "metadata": {
      "needs_background": "light"
     },
     "output_type": "display_data"
    }
   ],
   "source": [
    "plot_validation_curve(base_clf, X_train, y_train, 'min_samples_split', np.arange(1, 300, 10), cv=4, n_jobs=-1,scoring=make_scorer(balanced_accuracy_score), title=\"Validation curve-DT min_samples_split Credit\")"
   ]
  },
  {
   "cell_type": "code",
   "execution_count": 16,
   "metadata": {},
   "outputs": [
    {
     "data": {
      "image/png": "[encoded data removed]",
      "text/plain": [
       "<Figure size 432x288 with 1 Axes>"
      ]
     },
     "metadata": {
      "needs_background": "light"
     },
     "output_type": "display_data"
    }
   ],
   "source": [
    "plot_validation_curve(base_clf, X_train, y_train, 'min_samples_leaf', np.arange(1, 100, 5), cv=4, n_jobs=-1, scoring=make_scorer(balanced_accuracy_score), title=\"Validation curve-DT min_samples_leaf Credit\")"
   ]
  },
  {
   "cell_type": "markdown",
   "metadata": {},
   "source": [
    "### Conducting GridSearch to obtain best HyperParameters"
   ]
  },
  {
   "cell_type": "code",
   "execution_count": 17,
   "metadata": {},
   "outputs": [],
   "source": [
    "param_grid = {\n",
    "    'criterion': ['gini', 'entropy'],\n",
    "    'ccp_alpha': np.arange(0.005, 0.03, 0.005),\n",
    "    'min_samples_split': np.arange(1, 300, 10),\n",
    "    'min_samples_leaf': np.arange(1, 100, 5)\n",
    "}"
   ]
  },
  {
   "cell_type": "code",
   "execution_count": 18,
   "metadata": {},
   "outputs": [
    {
     "name": "stdout",
     "output_type": "stream",
     "text": [
      "Fitting 4 folds for each of 6000 candidates, totalling 24000 fits\n"
     ]
    },
    {
     "name": "stderr",
     "output_type": "stream",
     "text": [
      "[Parallel(n_jobs=-1)]: Using backend LokyBackend with 8 concurrent workers.\n",
      "[Parallel(n_jobs=-1)]: Batch computation too fast (0.0190s.) Setting batch_size=2.\n",
      "[Parallel(n_jobs=-1)]: Done   2 tasks      | elapsed:    0.0s\n",
      "[Parallel(n_jobs=-1)]: Done   9 tasks      | elapsed:    0.0s\n",
      "[Parallel(n_jobs=-1)]: Done  16 tasks      | elapsed:    0.0s\n",
      "[Parallel(n_jobs=-1)]: Batch computation too fast (0.0678s.) Setting batch_size=4.\n",
      "[Parallel(n_jobs=-1)]: Done  34 tasks      | elapsed:    0.0s\n",
      "[Parallel(n_jobs=-1)]: Batch computation too fast (0.0499s.) Setting batch_size=8.\n",
      "[Parallel(n_jobs=-1)]: Done  56 tasks      | elapsed:    0.1s\n",
      "[Parallel(n_jobs=-1)]: Done 100 tasks      | elapsed:    0.2s\n",
      "[Parallel(n_jobs=-1)]: Batch computation too fast (0.1362s.) Setting batch_size=16.\n",
      "[Parallel(n_jobs=-1)]: Done 176 tasks      | elapsed:    0.3s\n",
      "[Parallel(n_jobs=-1)]: Done 320 tasks      | elapsed:    0.6s\n",
      "[Parallel(n_jobs=-1)]: Done 528 tasks      | elapsed:    1.0s\n",
      "[Parallel(n_jobs=-1)]: Done 768 tasks      | elapsed:    1.3s\n",
      "[Parallel(n_jobs=-1)]: Done 1008 tasks      | elapsed:    1.6s\n",
      "[Parallel(n_jobs=-1)]: Done 1280 tasks      | elapsed:    2.1s\n",
      "[Parallel(n_jobs=-1)]: Done 1552 tasks      | elapsed:    2.6s\n",
      "[Parallel(n_jobs=-1)]: Done 1856 tasks      | elapsed:    3.0s\n",
      "[Parallel(n_jobs=-1)]: Done 2160 tasks      | elapsed:    3.4s\n",
      "[Parallel(n_jobs=-1)]: Done 2496 tasks      | elapsed:    4.0s\n",
      "[Parallel(n_jobs=-1)]: Done 2832 tasks      | elapsed:    4.6s\n",
      "[Parallel(n_jobs=-1)]: Done 3200 tasks      | elapsed:    5.1s\n",
      "[Parallel(n_jobs=-1)]: Done 3568 tasks      | elapsed:    5.7s\n",
      "[Parallel(n_jobs=-1)]: Done 3968 tasks      | elapsed:    6.3s\n",
      "[Parallel(n_jobs=-1)]: Done 4368 tasks      | elapsed:    6.9s\n",
      "[Parallel(n_jobs=-1)]: Done 4800 tasks      | elapsed:    7.6s\n",
      "[Parallel(n_jobs=-1)]: Done 5232 tasks      | elapsed:    8.3s\n",
      "[Parallel(n_jobs=-1)]: Done 5696 tasks      | elapsed:    9.0s\n",
      "[Parallel(n_jobs=-1)]: Done 6160 tasks      | elapsed:    9.8s\n",
      "[Parallel(n_jobs=-1)]: Done 6656 tasks      | elapsed:   10.5s\n",
      "[Parallel(n_jobs=-1)]: Done 7152 tasks      | elapsed:   11.2s\n",
      "[Parallel(n_jobs=-1)]: Done 7680 tasks      | elapsed:   12.2s\n",
      "[Parallel(n_jobs=-1)]: Done 8208 tasks      | elapsed:   13.2s\n",
      "[Parallel(n_jobs=-1)]: Done 8768 tasks      | elapsed:   14.0s\n",
      "[Parallel(n_jobs=-1)]: Done 9328 tasks      | elapsed:   15.0s\n",
      "[Parallel(n_jobs=-1)]: Done 9920 tasks      | elapsed:   15.8s\n",
      "[Parallel(n_jobs=-1)]: Done 10512 tasks      | elapsed:   16.8s\n",
      "[Parallel(n_jobs=-1)]: Done 11136 tasks      | elapsed:   17.7s\n",
      "[Parallel(n_jobs=-1)]: Done 11760 tasks      | elapsed:   18.5s\n",
      "[Parallel(n_jobs=-1)]: Done 12416 tasks      | elapsed:   19.7s\n",
      "[Parallel(n_jobs=-1)]: Done 13072 tasks      | elapsed:   20.6s\n",
      "[Parallel(n_jobs=-1)]: Done 13760 tasks      | elapsed:   21.6s\n",
      "[Parallel(n_jobs=-1)]: Done 14448 tasks      | elapsed:   22.6s\n",
      "[Parallel(n_jobs=-1)]: Done 15168 tasks      | elapsed:   23.7s\n",
      "[Parallel(n_jobs=-1)]: Done 15888 tasks      | elapsed:   24.9s\n",
      "[Parallel(n_jobs=-1)]: Done 16640 tasks      | elapsed:   26.1s\n",
      "[Parallel(n_jobs=-1)]: Done 17392 tasks      | elapsed:   27.4s\n",
      "[Parallel(n_jobs=-1)]: Done 18176 tasks      | elapsed:   28.8s\n",
      "[Parallel(n_jobs=-1)]: Done 18960 tasks      | elapsed:   30.4s\n",
      "[Parallel(n_jobs=-1)]: Done 19776 tasks      | elapsed:   31.8s\n",
      "[Parallel(n_jobs=-1)]: Done 20592 tasks      | elapsed:   33.0s\n",
      "[Parallel(n_jobs=-1)]: Done 21440 tasks      | elapsed:   34.2s\n",
      "[Parallel(n_jobs=-1)]: Done 22288 tasks      | elapsed:   35.6s\n",
      "[Parallel(n_jobs=-1)]: Done 23168 tasks      | elapsed:   36.8s\n",
      "[Parallel(n_jobs=-1)]: Done 23883 tasks      | elapsed:   37.9s\n",
      "[Parallel(n_jobs=-1)]: Done 23985 tasks      | elapsed:   38.0s\n",
      "[Parallel(n_jobs=-1)]: Done 24000 out of 24000 | elapsed:   38.0s finished\n"
     ]
    },
    {
     "data": {
      "text/plain": [
       "GridSearchCV(cv=4, estimator=DecisionTreeClassifier(), n_jobs=-1,\n",
       "             param_grid={'ccp_alpha': array([0.005, 0.01 , 0.015, 0.02 , 0.025]),\n",
       "                         'criterion': ['gini', 'entropy'],\n",
       "                         'min_samples_leaf': array([ 1,  6, 11, 16, 21, 26, 31, 36, 41, 46, 51, 56, 61, 66, 71, 76, 81,\n",
       "       86, 91, 96]),\n",
       "                         'min_samples_split': array([  1,  11,  21,  31,  41,  51,  61,  71,  81,  91, 101, 111, 121,\n",
       "       131, 141, 151, 161, 171, 181, 191, 201, 211, 221, 231, 241, 251,\n",
       "       261, 271, 281, 291])},\n",
       "             scoring=make_scorer(balanced_accuracy_score), verbose=10)"
      ]
     },
     "execution_count": 18,
     "metadata": {},
     "output_type": "execute_result"
    }
   ],
   "source": [
    "grid_search = GridSearchCV(base_clf, param_grid= param_grid, cv=4, scoring=make_scorer(balanced_accuracy_score), verbose=10, n_jobs=-1)\n",
    "grid_search.fit(X_train, y_train)"
   ]
  },
  {
   "cell_type": "code",
   "execution_count": 19,
   "metadata": {},
   "outputs": [
    {
     "data": {
      "text/html": [
       "<div>\n",
       "<style scoped>\n",
       "    .dataframe tbody tr th:only-of-type {\n",
       "        vertical-align: middle;\n",
       "    }\n",
       "\n",
       "    .dataframe tbody tr th {\n",
       "        vertical-align: top;\n",
       "    }\n",
       "\n",
       "    .dataframe thead th {\n",
       "        text-align: right;\n",
       "    }\n",
       "</style>\n",
       "<table border=\"1\" class=\"dataframe\">\n",
       "  <thead>\n",
       "    <tr style=\"text-align: right;\">\n",
       "      <th></th>\n",
       "      <th>mean_fit_time</th>\n",
       "      <th>std_fit_time</th>\n",
       "      <th>mean_score_time</th>\n",
       "      <th>std_score_time</th>\n",
       "      <th>param_ccp_alpha</th>\n",
       "      <th>param_criterion</th>\n",
       "      <th>param_min_samples_leaf</th>\n",
       "      <th>param_min_samples_split</th>\n",
       "      <th>params</th>\n",
       "      <th>split0_test_score</th>\n",
       "      <th>split1_test_score</th>\n",
       "      <th>split2_test_score</th>\n",
       "      <th>split3_test_score</th>\n",
       "      <th>mean_test_score</th>\n",
       "      <th>std_test_score</th>\n",
       "      <th>rank_test_score</th>\n",
       "    </tr>\n",
       "  </thead>\n",
       "  <tbody>\n",
       "    <tr>\n",
       "      <th>2999</th>\n",
       "      <td>0.006234</td>\n",
       "      <td>0.000826</td>\n",
       "      <td>0.004487</td>\n",
       "      <td>0.000498</td>\n",
       "      <td>0.015</td>\n",
       "      <td>gini</td>\n",
       "      <td>96</td>\n",
       "      <td>291</td>\n",
       "      <td>{'ccp_alpha': 0.015, 'criterion': 'gini', 'min...</td>\n",
       "      <td>0.84356</td>\n",
       "      <td>0.849226</td>\n",
       "      <td>0.897595</td>\n",
       "      <td>0.84089</td>\n",
       "      <td>0.857818</td>\n",
       "      <td>0.023162</td>\n",
       "      <td>1</td>\n",
       "    </tr>\n",
       "    <tr>\n",
       "      <th>3967</th>\n",
       "      <td>0.005735</td>\n",
       "      <td>0.000432</td>\n",
       "      <td>0.004238</td>\n",
       "      <td>0.000432</td>\n",
       "      <td>0.02</td>\n",
       "      <td>gini</td>\n",
       "      <td>61</td>\n",
       "      <td>71</td>\n",
       "      <td>{'ccp_alpha': 0.02, 'criterion': 'gini', 'min_...</td>\n",
       "      <td>0.84356</td>\n",
       "      <td>0.849226</td>\n",
       "      <td>0.897595</td>\n",
       "      <td>0.84089</td>\n",
       "      <td>0.857818</td>\n",
       "      <td>0.023162</td>\n",
       "      <td>1</td>\n",
       "    </tr>\n",
       "  </tbody>\n",
       "</table>\n",
       "</div>"
      ],
      "text/plain": [
       "      mean_fit_time  std_fit_time  mean_score_time  std_score_time  \\\n",
       "2999       0.006234      0.000826         0.004487        0.000498   \n",
       "3967       0.005735      0.000432         0.004238        0.000432   \n",
       "\n",
       "     param_ccp_alpha param_criterion param_min_samples_leaf  \\\n",
       "2999           0.015            gini                     96   \n",
       "3967            0.02            gini                     61   \n",
       "\n",
       "     param_min_samples_split  \\\n",
       "2999                     291   \n",
       "3967                      71   \n",
       "\n",
       "                                                 params  split0_test_score  \\\n",
       "2999  {'ccp_alpha': 0.015, 'criterion': 'gini', 'min...            0.84356   \n",
       "3967  {'ccp_alpha': 0.02, 'criterion': 'gini', 'min_...            0.84356   \n",
       "\n",
       "      split1_test_score  split2_test_score  split3_test_score  \\\n",
       "2999           0.849226           0.897595            0.84089   \n",
       "3967           0.849226           0.897595            0.84089   \n",
       "\n",
       "      mean_test_score  std_test_score  rank_test_score  \n",
       "2999         0.857818        0.023162                1  \n",
       "3967         0.857818        0.023162                1  "
      ]
     },
     "execution_count": 19,
     "metadata": {},
     "output_type": "execute_result"
    }
   ],
   "source": [
    "df = pd.DataFrame(grid_search.cv_results_)\n",
    "df.sort_values(by='rank_test_score').head(2)\n",
    "#df.head()"
   ]
  },
  {
   "cell_type": "code",
   "execution_count": 20,
   "metadata": {},
   "outputs": [
    {
     "data": {
      "text/plain": [
       "{'ccp_alpha': 0.005,\n",
       " 'criterion': 'gini',\n",
       " 'min_samples_leaf': 1,\n",
       " 'min_samples_split': 181}"
      ]
     },
     "execution_count": 20,
     "metadata": {},
     "output_type": "execute_result"
    }
   ],
   "source": [
    "grid_search.best_params_"
   ]
  },
  {
   "cell_type": "code",
   "execution_count": 21,
   "metadata": {},
   "outputs": [],
   "source": [
    "df_n = df.set_index(['param_criterion', 'param_ccp_alpha'])"
   ]
  },
  {
   "cell_type": "code",
   "execution_count": 22,
   "metadata": {},
   "outputs": [
    {
     "data": {
      "text/html": [
       "<div>\n",
       "<style scoped>\n",
       "    .dataframe tbody tr th:only-of-type {\n",
       "        vertical-align: middle;\n",
       "    }\n",
       "\n",
       "    .dataframe tbody tr th {\n",
       "        vertical-align: top;\n",
       "    }\n",
       "\n",
       "    .dataframe thead th {\n",
       "        text-align: right;\n",
       "    }\n",
       "</style>\n",
       "<table border=\"1\" class=\"dataframe\">\n",
       "  <thead>\n",
       "    <tr style=\"text-align: right;\">\n",
       "      <th></th>\n",
       "      <th></th>\n",
       "      <th>mean_fit_time</th>\n",
       "      <th>std_fit_time</th>\n",
       "      <th>mean_score_time</th>\n",
       "      <th>std_score_time</th>\n",
       "      <th>param_min_samples_leaf</th>\n",
       "      <th>param_min_samples_split</th>\n",
       "      <th>params</th>\n",
       "      <th>split0_test_score</th>\n",
       "      <th>split1_test_score</th>\n",
       "      <th>split2_test_score</th>\n",
       "      <th>split3_test_score</th>\n",
       "      <th>mean_test_score</th>\n",
       "      <th>std_test_score</th>\n",
       "      <th>rank_test_score</th>\n",
       "    </tr>\n",
       "    <tr>\n",
       "      <th>param_criterion</th>\n",
       "      <th>param_ccp_alpha</th>\n",
       "      <th></th>\n",
       "      <th></th>\n",
       "      <th></th>\n",
       "      <th></th>\n",
       "      <th></th>\n",
       "      <th></th>\n",
       "      <th></th>\n",
       "      <th></th>\n",
       "      <th></th>\n",
       "      <th></th>\n",
       "      <th></th>\n",
       "      <th></th>\n",
       "      <th></th>\n",
       "      <th></th>\n",
       "    </tr>\n",
       "  </thead>\n",
       "  <tbody>\n",
       "    <tr>\n",
       "      <th rowspan=\"5\" valign=\"top\">gini</th>\n",
       "      <th>0.015</th>\n",
       "      <td>0.006234</td>\n",
       "      <td>0.000826</td>\n",
       "      <td>0.004487</td>\n",
       "      <td>0.000498</td>\n",
       "      <td>96</td>\n",
       "      <td>291</td>\n",
       "      <td>{'ccp_alpha': 0.015, 'criterion': 'gini', 'min...</td>\n",
       "      <td>0.84356</td>\n",
       "      <td>0.849226</td>\n",
       "      <td>0.897595</td>\n",
       "      <td>0.84089</td>\n",
       "      <td>0.857818</td>\n",
       "      <td>0.023162</td>\n",
       "      <td>1</td>\n",
       "    </tr>\n",
       "    <tr>\n",
       "      <th>0.020</th>\n",
       "      <td>0.005735</td>\n",
       "      <td>0.000432</td>\n",
       "      <td>0.004238</td>\n",
       "      <td>0.000432</td>\n",
       "      <td>61</td>\n",
       "      <td>71</td>\n",
       "      <td>{'ccp_alpha': 0.02, 'criterion': 'gini', 'min_...</td>\n",
       "      <td>0.84356</td>\n",
       "      <td>0.849226</td>\n",
       "      <td>0.897595</td>\n",
       "      <td>0.84089</td>\n",
       "      <td>0.857818</td>\n",
       "      <td>0.023162</td>\n",
       "      <td>1</td>\n",
       "    </tr>\n",
       "    <tr>\n",
       "      <th>0.020</th>\n",
       "      <td>0.005735</td>\n",
       "      <td>0.000432</td>\n",
       "      <td>0.004242</td>\n",
       "      <td>0.000437</td>\n",
       "      <td>61</td>\n",
       "      <td>61</td>\n",
       "      <td>{'ccp_alpha': 0.02, 'criterion': 'gini', 'min_...</td>\n",
       "      <td>0.84356</td>\n",
       "      <td>0.849226</td>\n",
       "      <td>0.897595</td>\n",
       "      <td>0.84089</td>\n",
       "      <td>0.857818</td>\n",
       "      <td>0.023162</td>\n",
       "      <td>1</td>\n",
       "    </tr>\n",
       "    <tr>\n",
       "      <th>0.020</th>\n",
       "      <td>0.005985</td>\n",
       "      <td>0.000706</td>\n",
       "      <td>0.005233</td>\n",
       "      <td>0.001089</td>\n",
       "      <td>61</td>\n",
       "      <td>51</td>\n",
       "      <td>{'ccp_alpha': 0.02, 'criterion': 'gini', 'min_...</td>\n",
       "      <td>0.84356</td>\n",
       "      <td>0.849226</td>\n",
       "      <td>0.897595</td>\n",
       "      <td>0.84089</td>\n",
       "      <td>0.857818</td>\n",
       "      <td>0.023162</td>\n",
       "      <td>1</td>\n",
       "    </tr>\n",
       "    <tr>\n",
       "      <th>0.020</th>\n",
       "      <td>0.007729</td>\n",
       "      <td>0.001914</td>\n",
       "      <td>0.004986</td>\n",
       "      <td>0.000706</td>\n",
       "      <td>61</td>\n",
       "      <td>41</td>\n",
       "      <td>{'ccp_alpha': 0.02, 'criterion': 'gini', 'min_...</td>\n",
       "      <td>0.84356</td>\n",
       "      <td>0.849226</td>\n",
       "      <td>0.897595</td>\n",
       "      <td>0.84089</td>\n",
       "      <td>0.857818</td>\n",
       "      <td>0.023162</td>\n",
       "      <td>1</td>\n",
       "    </tr>\n",
       "  </tbody>\n",
       "</table>\n",
       "</div>"
      ],
      "text/plain": [
       "                                 mean_fit_time  std_fit_time  mean_score_time  \\\n",
       "param_criterion param_ccp_alpha                                                 \n",
       "gini            0.015                 0.006234      0.000826         0.004487   \n",
       "                0.020                 0.005735      0.000432         0.004238   \n",
       "                0.020                 0.005735      0.000432         0.004242   \n",
       "                0.020                 0.005985      0.000706         0.005233   \n",
       "                0.020                 0.007729      0.001914         0.004986   \n",
       "\n",
       "                                 std_score_time param_min_samples_leaf  \\\n",
       "param_criterion param_ccp_alpha                                          \n",
       "gini            0.015                  0.000498                     96   \n",
       "                0.020                  0.000432                     61   \n",
       "                0.020                  0.000437                     61   \n",
       "                0.020                  0.001089                     61   \n",
       "                0.020                  0.000706                     61   \n",
       "\n",
       "                                param_min_samples_split  \\\n",
       "param_criterion param_ccp_alpha                           \n",
       "gini            0.015                               291   \n",
       "                0.020                                71   \n",
       "                0.020                                61   \n",
       "                0.020                                51   \n",
       "                0.020                                41   \n",
       "\n",
       "                                                                            params  \\\n",
       "param_criterion param_ccp_alpha                                                      \n",
       "gini            0.015            {'ccp_alpha': 0.015, 'criterion': 'gini', 'min...   \n",
       "                0.020            {'ccp_alpha': 0.02, 'criterion': 'gini', 'min_...   \n",
       "                0.020            {'ccp_alpha': 0.02, 'criterion': 'gini', 'min_...   \n",
       "                0.020            {'ccp_alpha': 0.02, 'criterion': 'gini', 'min_...   \n",
       "                0.020            {'ccp_alpha': 0.02, 'criterion': 'gini', 'min_...   \n",
       "\n",
       "                                 split0_test_score  split1_test_score  \\\n",
       "param_criterion param_ccp_alpha                                         \n",
       "gini            0.015                      0.84356           0.849226   \n",
       "                0.020                      0.84356           0.849226   \n",
       "                0.020                      0.84356           0.849226   \n",
       "                0.020                      0.84356           0.849226   \n",
       "                0.020                      0.84356           0.849226   \n",
       "\n",
       "                                 split2_test_score  split3_test_score  \\\n",
       "param_criterion param_ccp_alpha                                         \n",
       "gini            0.015                     0.897595            0.84089   \n",
       "                0.020                     0.897595            0.84089   \n",
       "                0.020                     0.897595            0.84089   \n",
       "                0.020                     0.897595            0.84089   \n",
       "                0.020                     0.897595            0.84089   \n",
       "\n",
       "                                 mean_test_score  std_test_score  \\\n",
       "param_criterion param_ccp_alpha                                    \n",
       "gini            0.015                   0.857818        0.023162   \n",
       "                0.020                   0.857818        0.023162   \n",
       "                0.020                   0.857818        0.023162   \n",
       "                0.020                   0.857818        0.023162   \n",
       "                0.020                   0.857818        0.023162   \n",
       "\n",
       "                                 rank_test_score  \n",
       "param_criterion param_ccp_alpha                   \n",
       "gini            0.015                          1  \n",
       "                0.020                          1  \n",
       "                0.020                          1  \n",
       "                0.020                          1  \n",
       "                0.020                          1  "
      ]
     },
     "execution_count": 22,
     "metadata": {},
     "output_type": "execute_result"
    }
   ],
   "source": [
    "df_n.sort_values(by='rank_test_score').head()"
   ]
  },
  {
   "cell_type": "code",
   "execution_count": 23,
   "metadata": {},
   "outputs": [
    {
     "data": {
      "text/plain": [
       "{'ccp_alpha': 0.005,\n",
       " 'criterion': 'gini',\n",
       " 'min_samples_leaf': 1,\n",
       " 'min_samples_split': 181}"
      ]
     },
     "execution_count": 23,
     "metadata": {},
     "output_type": "execute_result"
    }
   ],
   "source": [
    "grid_search.best_params_"
   ]
  },
  {
   "cell_type": "code",
   "execution_count": 24,
   "metadata": {},
   "outputs": [
    {
     "data": {
      "text/plain": [
       "DecisionTreeClassifier(ccp_alpha=0.005, min_samples_split=181)"
      ]
     },
     "execution_count": 24,
     "metadata": {},
     "output_type": "execute_result"
    }
   ],
   "source": [
    "grid_search.best_estimator_"
   ]
  },
  {
   "cell_type": "code",
   "execution_count": 25,
   "metadata": {},
   "outputs": [
    {
     "data": {
      "text/plain": [
       "0.8578178290935261"
      ]
     },
     "execution_count": 25,
     "metadata": {},
     "output_type": "execute_result"
    }
   ],
   "source": [
    "grid_search.best_score_"
   ]
  },
  {
   "cell_type": "markdown",
   "metadata": {},
   "source": [
    "### Generating Learning Curve with tuned Hyperparameters "
   ]
  },
  {
   "cell_type": "code",
   "execution_count": 26,
   "metadata": {},
   "outputs": [
    {
     "data": {
      "image/png": "[encoded data removed]",
      "text/plain": [
       "<Figure size 432x288 with 1 Axes>"
      ]
     },
     "metadata": {
      "needs_background": "light"
     },
     "output_type": "display_data"
    }
   ],
   "source": [
    "plot_learning_curve(DecisionTreeClassifier(ccp_alpha=0.005, min_samples_split=181), \"Learning curve-DT Credit Tuned\", X_train, y_train, ylim=None, cv=4, n_jobs=-1)"
   ]
  },
  {
   "cell_type": "markdown",
   "metadata": {},
   "source": [
    "### Fitting classifier with best parameters and calculating test score"
   ]
  },
  {
   "cell_type": "code",
   "execution_count": 27,
   "metadata": {},
   "outputs": [],
   "source": [
    "best_clf = DecisionTreeClassifier(ccp_alpha=0.005, min_samples_split=221)"
   ]
  },
  {
   "cell_type": "code",
   "execution_count": 28,
   "metadata": {},
   "outputs": [
    {
     "name": "stdout",
     "output_type": "stream",
     "text": [
      "Train Accuracy:  0.8578531759805623\n",
      "Test Accuracy:  0.8717391304347826\n"
     ]
    }
   ],
   "source": [
    "best_clf.fit(X_train, y_train)\n",
    "y_train_pred = best_clf.predict(X_train)\n",
    "y_test_pred = best_clf.predict(X_test)\n",
    "print(\"Train Accuracy: \", balanced_accuracy_score(y_train, y_train_pred))\n",
    "print(\"Test Accuracy: \", balanced_accuracy_score(y_test, y_test_pred))"
   ]
  }
 ],
 "metadata": {
  "kernelspec": {
   "display_name": "Python 3",
   "language": "python",
   "name": "python3"
  },
  "language_info": {
   "codemirror_mode": {
    "name": "ipython",
    "version": 3
   },
   "file_extension": ".py",
   "mimetype": "text/x-python",
   "name": "python",
   "nbconvert_exporter": "python",
   "pygments_lexer": "ipython3",
   "version": "3.8.5"
  }
 },
 "nbformat": 4,
 "nbformat_minor": 4
}
