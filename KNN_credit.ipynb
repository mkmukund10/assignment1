{
 "cells": [
  {
   "cell_type": "code",
   "execution_count": 1,
   "metadata": {},
   "outputs": [
    {
     "name": "stdout",
     "output_type": "stream",
     "text": [
      "None\n"
     ]
    }
   ],
   "source": [
    "import pandas as pd\n",
    "import numpy as np\n",
    "from sklearn.model_selection import train_test_split, GridSearchCV\n",
    "from sklearn.tree import DecisionTreeClassifier\n",
    "from sklearn.neighbors import KNeighborsClassifier\n",
    "from sklearn.metrics import make_scorer, accuracy_score\n",
    "from sklearn.utils import compute_sample_weight\n",
    "from sklearn.metrics import balanced_accuracy_score\n",
    "from plot_learning_curve import plot_learning_curve, plot_validation_curve\n",
    "import matplotlib.pyplot as plt\n",
    "from sklearn import preprocessing"
   ]
  },
  {
   "cell_type": "markdown",
   "metadata": {},
   "source": [
    "### Loading and Preprocessing Data "
   ]
  },
  {
   "cell_type": "code",
   "execution_count": 2,
   "metadata": {},
   "outputs": [
    {
     "data": {
      "text/html": [
       "<div>\n",
       "<style scoped>\n",
       "    .dataframe tbody tr th:only-of-type {\n",
       "        vertical-align: middle;\n",
       "    }\n",
       "\n",
       "    .dataframe tbody tr th {\n",
       "        vertical-align: top;\n",
       "    }\n",
       "\n",
       "    .dataframe thead th {\n",
       "        text-align: right;\n",
       "    }\n",
       "</style>\n",
       "<table border=\"1\" class=\"dataframe\">\n",
       "  <thead>\n",
       "    <tr style=\"text-align: right;\">\n",
       "      <th></th>\n",
       "      <th>A1</th>\n",
       "      <th>A2</th>\n",
       "      <th>A3</th>\n",
       "      <th>A4</th>\n",
       "      <th>A5</th>\n",
       "      <th>A6</th>\n",
       "      <th>A7</th>\n",
       "      <th>A8</th>\n",
       "      <th>A9</th>\n",
       "      <th>A10</th>\n",
       "      <th>A11</th>\n",
       "      <th>A12</th>\n",
       "      <th>A13</th>\n",
       "      <th>A14</th>\n",
       "      <th>A15</th>\n",
       "      <th>target</th>\n",
       "    </tr>\n",
       "  </thead>\n",
       "  <tbody>\n",
       "    <tr>\n",
       "      <th>0</th>\n",
       "      <td>2</td>\n",
       "      <td>156</td>\n",
       "      <td>0.000</td>\n",
       "      <td>2</td>\n",
       "      <td>1</td>\n",
       "      <td>13</td>\n",
       "      <td>8</td>\n",
       "      <td>1.25</td>\n",
       "      <td>1</td>\n",
       "      <td>1</td>\n",
       "      <td>1.0</td>\n",
       "      <td>0</td>\n",
       "      <td>0</td>\n",
       "      <td>42</td>\n",
       "      <td>0.0</td>\n",
       "      <td>0</td>\n",
       "    </tr>\n",
       "    <tr>\n",
       "      <th>1</th>\n",
       "      <td>1</td>\n",
       "      <td>328</td>\n",
       "      <td>4.460</td>\n",
       "      <td>2</td>\n",
       "      <td>1</td>\n",
       "      <td>11</td>\n",
       "      <td>4</td>\n",
       "      <td>3.04</td>\n",
       "      <td>1</td>\n",
       "      <td>1</td>\n",
       "      <td>6.0</td>\n",
       "      <td>0</td>\n",
       "      <td>0</td>\n",
       "      <td>118</td>\n",
       "      <td>560.0</td>\n",
       "      <td>0</td>\n",
       "    </tr>\n",
       "    <tr>\n",
       "      <th>2</th>\n",
       "      <td>1</td>\n",
       "      <td>89</td>\n",
       "      <td>0.500</td>\n",
       "      <td>2</td>\n",
       "      <td>1</td>\n",
       "      <td>11</td>\n",
       "      <td>4</td>\n",
       "      <td>1.50</td>\n",
       "      <td>1</td>\n",
       "      <td>0</td>\n",
       "      <td>0.0</td>\n",
       "      <td>0</td>\n",
       "      <td>0</td>\n",
       "      <td>74</td>\n",
       "      <td>824.0</td>\n",
       "      <td>0</td>\n",
       "    </tr>\n",
       "    <tr>\n",
       "      <th>3</th>\n",
       "      <td>2</td>\n",
       "      <td>125</td>\n",
       "      <td>1.540</td>\n",
       "      <td>2</td>\n",
       "      <td>1</td>\n",
       "      <td>13</td>\n",
       "      <td>8</td>\n",
       "      <td>3.75</td>\n",
       "      <td>1</td>\n",
       "      <td>1</td>\n",
       "      <td>5.0</td>\n",
       "      <td>1</td>\n",
       "      <td>0</td>\n",
       "      <td>1</td>\n",
       "      <td>3.0</td>\n",
       "      <td>0</td>\n",
       "    </tr>\n",
       "    <tr>\n",
       "      <th>4</th>\n",
       "      <td>2</td>\n",
       "      <td>43</td>\n",
       "      <td>5.625</td>\n",
       "      <td>2</td>\n",
       "      <td>1</td>\n",
       "      <td>13</td>\n",
       "      <td>8</td>\n",
       "      <td>1.71</td>\n",
       "      <td>1</td>\n",
       "      <td>0</td>\n",
       "      <td>0.0</td>\n",
       "      <td>0</td>\n",
       "      <td>2</td>\n",
       "      <td>8</td>\n",
       "      <td>0.0</td>\n",
       "      <td>0</td>\n",
       "    </tr>\n",
       "  </tbody>\n",
       "</table>\n",
       "</div>"
      ],
      "text/plain": [
       "   A1   A2     A3  A4  A5  A6  A7    A8  A9  A10  A11  A12  A13  A14    A15  \\\n",
       "0   2  156  0.000   2   1  13   8  1.25   1    1  1.0    0    0   42    0.0   \n",
       "1   1  328  4.460   2   1  11   4  3.04   1    1  6.0    0    0  118  560.0   \n",
       "2   1   89  0.500   2   1  11   4  1.50   1    0  0.0    0    0   74  824.0   \n",
       "3   2  125  1.540   2   1  13   8  3.75   1    1  5.0    1    0    1    3.0   \n",
       "4   2   43  5.625   2   1  13   8  1.71   1    0  0.0    0    2    8    0.0   \n",
       "\n",
       "   target  \n",
       "0       0  \n",
       "1       0  \n",
       "2       0  \n",
       "3       0  \n",
       "4       0  "
      ]
     },
     "execution_count": 2,
     "metadata": {},
     "output_type": "execute_result"
    }
   ],
   "source": [
    "credit_train = pd.read_csv(\"credit-a.tsv\", sep = \"\\t\")\n",
    "credit_train.head()"
   ]
  },
  {
   "cell_type": "code",
   "execution_count": 3,
   "metadata": {},
   "outputs": [
    {
     "data": {
      "text/plain": [
       "2     137\n",
       "11     78\n",
       "13     64\n",
       "7      59\n",
       "1      54\n",
       "6      53\n",
       "9      51\n",
       "3      41\n",
       "14     38\n",
       "10     38\n",
       "4      30\n",
       "5      25\n",
       "8      10\n",
       "0       9\n",
       "12      3\n",
       "Name: A6, dtype: int64"
      ]
     },
     "execution_count": 3,
     "metadata": {},
     "output_type": "execute_result"
    }
   ],
   "source": [
    "credit_train['A6'].value_counts(0)"
   ]
  },
  {
   "cell_type": "code",
   "execution_count": 4,
   "metadata": {},
   "outputs": [
    {
     "data": {
      "text/plain": [
       "(690, 38)"
      ]
     },
     "execution_count": 4,
     "metadata": {},
     "output_type": "execute_result"
    }
   ],
   "source": [
    "credit_train = pd.get_dummies(credit_train, columns=['A1', 'A4', 'A5', 'A7', 'A9', 'A10', 'A12', 'A13'])\n",
    "credit_train.shape"
   ]
  },
  {
   "cell_type": "code",
   "execution_count": 5,
   "metadata": {},
   "outputs": [
    {
     "data": {
      "text/plain": [
       "1    0.555072\n",
       "0    0.444928\n",
       "Name: target, dtype: float64"
      ]
     },
     "execution_count": 5,
     "metadata": {},
     "output_type": "execute_result"
    }
   ],
   "source": [
    "credit_train['target'].value_counts()/credit_train.shape[0]"
   ]
  },
  {
   "cell_type": "code",
   "execution_count": 6,
   "metadata": {},
   "outputs": [],
   "source": [
    "normalize_columns = ['A2', 'A3', 'A6','A8', 'A11', 'A14']\n",
    "def normalize(columns):\n",
    "  scaler = preprocessing.StandardScaler()\n",
    "  credit_train[columns] = scaler.fit_transform(credit_train[columns])\n",
    "normalize(normalize_columns)"
   ]
  },
  {
   "cell_type": "code",
   "execution_count": 7,
   "metadata": {},
   "outputs": [],
   "source": [
    "X = credit_train[[c for c in credit_train.columns if c != 'target']]\n",
    "y = credit_train['target']\n",
    "X_train, X_test, y_train, y_test = train_test_split(X, y, test_size=0.3, stratify=y, random_state=1)"
   ]
  },
  {
   "cell_type": "code",
   "execution_count": 8,
   "metadata": {},
   "outputs": [
    {
     "data": {
      "text/plain": [
       "1    0.555556\n",
       "0    0.444444\n",
       "Name: target, dtype: float64"
      ]
     },
     "execution_count": 8,
     "metadata": {},
     "output_type": "execute_result"
    }
   ],
   "source": [
    "y_test.value_counts()/y_test.shape[0]"
   ]
  },
  {
   "cell_type": "markdown",
   "metadata": {},
   "source": [
    "### Trying KNN Classifier without HyperParameter tunings"
   ]
  },
  {
   "cell_type": "code",
   "execution_count": 9,
   "metadata": {},
   "outputs": [],
   "source": [
    "base_clf = KNeighborsClassifier()"
   ]
  },
  {
   "cell_type": "code",
   "execution_count": 10,
   "metadata": {},
   "outputs": [
    {
     "name": "stdout",
     "output_type": "stream",
     "text": [
      "Train Accuracy:  0.8188562998958695\n",
      "Test Accuracy:  0.7119565217391304\n"
     ]
    }
   ],
   "source": [
    "base_clf.fit(X_train, y_train)\n",
    "y_train_pred = base_clf.predict(X_train)\n",
    "y_test_pred = base_clf.predict(X_test)\n",
    "print(\"Train Accuracy: \", balanced_accuracy_score(y_train, y_train_pred))\n",
    "print(\"Test Accuracy: \", balanced_accuracy_score(y_test, y_test_pred))"
   ]
  },
  {
   "cell_type": "code",
   "execution_count": 11,
   "metadata": {},
   "outputs": [
    {
     "data": {
      "text/plain": [
       "{'algorithm': 'auto',\n",
       " 'leaf_size': 30,\n",
       " 'metric': 'minkowski',\n",
       " 'metric_params': None,\n",
       " 'n_jobs': None,\n",
       " 'n_neighbors': 5,\n",
       " 'p': 2,\n",
       " 'weights': 'uniform'}"
      ]
     },
     "execution_count": 11,
     "metadata": {},
     "output_type": "execute_result"
    }
   ],
   "source": [
    "base_clf.get_params()"
   ]
  },
  {
   "cell_type": "markdown",
   "metadata": {},
   "source": [
    "### Generate Learning Curve & Validation Curve with default classifier"
   ]
  },
  {
   "cell_type": "code",
   "execution_count": 12,
   "metadata": {},
   "outputs": [
    {
     "data": {
      "image/png": "[encoded data removed]",
      "text/plain": [
       "<Figure size 432x288 with 1 Axes>"
      ]
     },
     "metadata": {
      "needs_background": "light"
     },
     "output_type": "display_data"
    }
   ],
   "source": [
    "plot_learning_curve(base_clf, \"Learning curve-KNN Credit\", X_train, y_train, ylim=None, cv=4, n_jobs=-1)"
   ]
  },
  {
   "cell_type": "code",
   "execution_count": 13,
   "metadata": {},
   "outputs": [
    {
     "data": {
      "image/png": "[encoded data removed]",
      "text/plain": [
       "<Figure size 432x288 with 1 Axes>"
      ]
     },
     "metadata": {
      "needs_background": "light"
     },
     "output_type": "display_data"
    }
   ],
   "source": [
    "plot_validation_curve(base_clf, X_train, y_train, 'n_neighbors', np.arange(1, 30, 2), cv=4, n_jobs=-1, scoring=make_scorer(balanced_accuracy_score), title=\"Validation curve-KNN n_neighbors Credit\")"
   ]
  },
  {
   "cell_type": "markdown",
   "metadata": {},
   "source": [
    "### Conducting GridSearch to obtain best HyperParameters"
   ]
  },
  {
   "cell_type": "code",
   "execution_count": 14,
   "metadata": {},
   "outputs": [],
   "source": [
    "param_grid = {\n",
    "    'n_neighbors': range(1, 200),\n",
    "    'weights': ['uniform', 'distance'],\n",
    "    'metric': ['euclidean', 'manhattan', 'minkowski']\n",
    "}"
   ]
  },
  {
   "cell_type": "code",
   "execution_count": 15,
   "metadata": {},
   "outputs": [
    {
     "name": "stdout",
     "output_type": "stream",
     "text": [
      "Fitting 4 folds for each of 1194 candidates, totalling 4776 fits\n"
     ]
    },
    {
     "name": "stderr",
     "output_type": "stream",
     "text": [
      "[Parallel(n_jobs=-1)]: Using backend LokyBackend with 8 concurrent workers.\n",
      "[Parallel(n_jobs=-1)]: Batch computation too fast (0.0319s.) Setting batch_size=2.\n",
      "[Parallel(n_jobs=-1)]: Done   2 tasks      | elapsed:    0.0s\n",
      "[Parallel(n_jobs=-1)]: Done   9 tasks      | elapsed:    0.0s\n",
      "[Parallel(n_jobs=-1)]: Done  16 tasks      | elapsed:    0.0s\n",
      "[Parallel(n_jobs=-1)]: Batch computation too fast (0.0648s.) Setting batch_size=4.\n",
      "[Parallel(n_jobs=-1)]: Done  34 tasks      | elapsed:    0.1s\n",
      "[Parallel(n_jobs=-1)]: Batch computation too fast (0.1122s.) Setting batch_size=8.\n",
      "[Parallel(n_jobs=-1)]: Done  56 tasks      | elapsed:    0.2s\n",
      "[Parallel(n_jobs=-1)]: Done 100 tasks      | elapsed:    0.3s\n",
      "[Parallel(n_jobs=-1)]: Done 176 tasks      | elapsed:    0.6s\n",
      "[Parallel(n_jobs=-1)]: Done 280 tasks      | elapsed:    0.9s\n",
      "[Parallel(n_jobs=-1)]: Done 384 tasks      | elapsed:    1.3s\n",
      "[Parallel(n_jobs=-1)]: Done 504 tasks      | elapsed:    1.7s\n",
      "[Parallel(n_jobs=-1)]: Done 624 tasks      | elapsed:    2.0s\n",
      "[Parallel(n_jobs=-1)]: Done 760 tasks      | elapsed:    2.7s\n",
      "[Parallel(n_jobs=-1)]: Done 896 tasks      | elapsed:    3.1s\n",
      "[Parallel(n_jobs=-1)]: Done 1048 tasks      | elapsed:    3.6s\n",
      "[Parallel(n_jobs=-1)]: Done 1200 tasks      | elapsed:    4.1s\n",
      "[Parallel(n_jobs=-1)]: Done 1368 tasks      | elapsed:    4.7s\n",
      "[Parallel(n_jobs=-1)]: Done 1536 tasks      | elapsed:    5.3s\n",
      "[Parallel(n_jobs=-1)]: Done 1720 tasks      | elapsed:    5.8s\n",
      "[Parallel(n_jobs=-1)]: Done 1904 tasks      | elapsed:    6.3s\n",
      "[Parallel(n_jobs=-1)]: Done 2104 tasks      | elapsed:    6.9s\n",
      "[Parallel(n_jobs=-1)]: Done 2304 tasks      | elapsed:    7.5s\n",
      "[Parallel(n_jobs=-1)]: Done 2520 tasks      | elapsed:    8.2s\n",
      "[Parallel(n_jobs=-1)]: Done 2736 tasks      | elapsed:    8.9s\n",
      "[Parallel(n_jobs=-1)]: Done 2968 tasks      | elapsed:    9.7s\n",
      "[Parallel(n_jobs=-1)]: Done 3200 tasks      | elapsed:   10.4s\n",
      "[Parallel(n_jobs=-1)]: Done 3448 tasks      | elapsed:   11.1s\n",
      "[Parallel(n_jobs=-1)]: Done 3696 tasks      | elapsed:   11.8s\n",
      "[Parallel(n_jobs=-1)]: Done 3960 tasks      | elapsed:   12.6s\n",
      "[Parallel(n_jobs=-1)]: Done 4224 tasks      | elapsed:   13.5s\n",
      "[Parallel(n_jobs=-1)]: Done 4504 tasks      | elapsed:   14.4s\n",
      "[Parallel(n_jobs=-1)]: Done 4728 tasks      | elapsed:   14.9s\n",
      "[Parallel(n_jobs=-1)]: Done 4776 out of 4776 | elapsed:   15.1s finished\n"
     ]
    },
    {
     "data": {
      "text/plain": [
       "GridSearchCV(cv=4, estimator=KNeighborsClassifier(), n_jobs=-1,\n",
       "             param_grid={'metric': ['euclidean', 'manhattan', 'minkowski'],\n",
       "                         'n_neighbors': range(1, 200),\n",
       "                         'weights': ['uniform', 'distance']},\n",
       "             scoring=make_scorer(balanced_accuracy_score), verbose=10)"
      ]
     },
     "execution_count": 15,
     "metadata": {},
     "output_type": "execute_result"
    }
   ],
   "source": [
    "grid_search = GridSearchCV(base_clf, param_grid= param_grid, cv=4, scoring=make_scorer(balanced_accuracy_score), verbose=10, n_jobs=-1)\n",
    "grid_search.fit(X_train, y_train)"
   ]
  },
  {
   "cell_type": "code",
   "execution_count": 16,
   "metadata": {},
   "outputs": [
    {
     "data": {
      "text/html": [
       "<div>\n",
       "<style scoped>\n",
       "    .dataframe tbody tr th:only-of-type {\n",
       "        vertical-align: middle;\n",
       "    }\n",
       "\n",
       "    .dataframe tbody tr th {\n",
       "        vertical-align: top;\n",
       "    }\n",
       "\n",
       "    .dataframe thead th {\n",
       "        text-align: right;\n",
       "    }\n",
       "</style>\n",
       "<table border=\"1\" class=\"dataframe\">\n",
       "  <thead>\n",
       "    <tr style=\"text-align: right;\">\n",
       "      <th></th>\n",
       "      <th>mean_fit_time</th>\n",
       "      <th>std_fit_time</th>\n",
       "      <th>mean_score_time</th>\n",
       "      <th>std_score_time</th>\n",
       "      <th>param_metric</th>\n",
       "      <th>param_n_neighbors</th>\n",
       "      <th>param_weights</th>\n",
       "      <th>params</th>\n",
       "      <th>split0_test_score</th>\n",
       "      <th>split1_test_score</th>\n",
       "      <th>split2_test_score</th>\n",
       "      <th>split3_test_score</th>\n",
       "      <th>mean_test_score</th>\n",
       "      <th>std_test_score</th>\n",
       "      <th>rank_test_score</th>\n",
       "    </tr>\n",
       "  </thead>\n",
       "  <tbody>\n",
       "    <tr>\n",
       "      <th>408</th>\n",
       "      <td>0.008974</td>\n",
       "      <td>0.001223</td>\n",
       "      <td>0.014212</td>\n",
       "      <td>4.315016e-04</td>\n",
       "      <td>manhattan</td>\n",
       "      <td>6</td>\n",
       "      <td>uniform</td>\n",
       "      <td>{'metric': 'manhattan', 'n_neighbors': 6, 'wei...</td>\n",
       "      <td>0.767689</td>\n",
       "      <td>0.771282</td>\n",
       "      <td>0.773079</td>\n",
       "      <td>0.768938</td>\n",
       "      <td>0.770247</td>\n",
       "      <td>0.002082</td>\n",
       "      <td>1</td>\n",
       "    </tr>\n",
       "    <tr>\n",
       "      <th>481</th>\n",
       "      <td>0.008228</td>\n",
       "      <td>0.000431</td>\n",
       "      <td>0.008727</td>\n",
       "      <td>4.320547e-04</td>\n",
       "      <td>manhattan</td>\n",
       "      <td>42</td>\n",
       "      <td>distance</td>\n",
       "      <td>{'metric': 'manhattan', 'n_neighbors': 42, 'we...</td>\n",
       "      <td>0.758706</td>\n",
       "      <td>0.814262</td>\n",
       "      <td>0.753040</td>\n",
       "      <td>0.753591</td>\n",
       "      <td>0.769900</td>\n",
       "      <td>0.025708</td>\n",
       "      <td>2</td>\n",
       "    </tr>\n",
       "    <tr>\n",
       "      <th>436</th>\n",
       "      <td>0.008726</td>\n",
       "      <td>0.000828</td>\n",
       "      <td>0.014960</td>\n",
       "      <td>5.930587e-07</td>\n",
       "      <td>manhattan</td>\n",
       "      <td>20</td>\n",
       "      <td>uniform</td>\n",
       "      <td>{'metric': 'manhattan', 'n_neighbors': 20, 'we...</td>\n",
       "      <td>0.769762</td>\n",
       "      <td>0.836374</td>\n",
       "      <td>0.745301</td>\n",
       "      <td>0.723740</td>\n",
       "      <td>0.768794</td>\n",
       "      <td>0.042278</td>\n",
       "      <td>3</td>\n",
       "    </tr>\n",
       "    <tr>\n",
       "      <th>444</th>\n",
       "      <td>0.008975</td>\n",
       "      <td>0.000998</td>\n",
       "      <td>0.014461</td>\n",
       "      <td>4.988317e-04</td>\n",
       "      <td>manhattan</td>\n",
       "      <td>24</td>\n",
       "      <td>uniform</td>\n",
       "      <td>{'metric': 'manhattan', 'n_neighbors': 24, 'we...</td>\n",
       "      <td>0.769762</td>\n",
       "      <td>0.827114</td>\n",
       "      <td>0.750967</td>\n",
       "      <td>0.721769</td>\n",
       "      <td>0.767403</td>\n",
       "      <td>0.038483</td>\n",
       "      <td>4</td>\n",
       "    </tr>\n",
       "    <tr>\n",
       "      <th>495</th>\n",
       "      <td>0.009484</td>\n",
       "      <td>0.001111</td>\n",
       "      <td>0.011217</td>\n",
       "      <td>1.913792e-03</td>\n",
       "      <td>manhattan</td>\n",
       "      <td>49</td>\n",
       "      <td>distance</td>\n",
       "      <td>{'metric': 'manhattan', 'n_neighbors': 49, 'we...</td>\n",
       "      <td>0.758706</td>\n",
       "      <td>0.819928</td>\n",
       "      <td>0.736318</td>\n",
       "      <td>0.751619</td>\n",
       "      <td>0.766643</td>\n",
       "      <td>0.031810</td>\n",
       "      <td>5</td>\n",
       "    </tr>\n",
       "  </tbody>\n",
       "</table>\n",
       "</div>"
      ],
      "text/plain": [
       "     mean_fit_time  std_fit_time  mean_score_time  std_score_time  \\\n",
       "408       0.008974      0.001223         0.014212    4.315016e-04   \n",
       "481       0.008228      0.000431         0.008727    4.320547e-04   \n",
       "436       0.008726      0.000828         0.014960    5.930587e-07   \n",
       "444       0.008975      0.000998         0.014461    4.988317e-04   \n",
       "495       0.009484      0.001111         0.011217    1.913792e-03   \n",
       "\n",
       "    param_metric param_n_neighbors param_weights  \\\n",
       "408    manhattan                 6       uniform   \n",
       "481    manhattan                42      distance   \n",
       "436    manhattan                20       uniform   \n",
       "444    manhattan                24       uniform   \n",
       "495    manhattan                49      distance   \n",
       "\n",
       "                                                params  split0_test_score  \\\n",
       "408  {'metric': 'manhattan', 'n_neighbors': 6, 'wei...           0.767689   \n",
       "481  {'metric': 'manhattan', 'n_neighbors': 42, 'we...           0.758706   \n",
       "436  {'metric': 'manhattan', 'n_neighbors': 20, 'we...           0.769762   \n",
       "444  {'metric': 'manhattan', 'n_neighbors': 24, 'we...           0.769762   \n",
       "495  {'metric': 'manhattan', 'n_neighbors': 49, 'we...           0.758706   \n",
       "\n",
       "     split1_test_score  split2_test_score  split3_test_score  mean_test_score  \\\n",
       "408           0.771282           0.773079           0.768938         0.770247   \n",
       "481           0.814262           0.753040           0.753591         0.769900   \n",
       "436           0.836374           0.745301           0.723740         0.768794   \n",
       "444           0.827114           0.750967           0.721769         0.767403   \n",
       "495           0.819928           0.736318           0.751619         0.766643   \n",
       "\n",
       "     std_test_score  rank_test_score  \n",
       "408        0.002082                1  \n",
       "481        0.025708                2  \n",
       "436        0.042278                3  \n",
       "444        0.038483                4  \n",
       "495        0.031810                5  "
      ]
     },
     "execution_count": 16,
     "metadata": {},
     "output_type": "execute_result"
    }
   ],
   "source": [
    "df = pd.DataFrame(grid_search.cv_results_)\n",
    "df.sort_values(by='rank_test_score').head()"
   ]
  },
  {
   "cell_type": "code",
   "execution_count": 17,
   "metadata": {},
   "outputs": [
    {
     "data": {
      "text/plain": [
       "{'metric': 'manhattan', 'n_neighbors': 6, 'weights': 'uniform'}"
      ]
     },
     "execution_count": 17,
     "metadata": {},
     "output_type": "execute_result"
    }
   ],
   "source": [
    "grid_search.best_params_"
   ]
  },
  {
   "cell_type": "code",
   "execution_count": 18,
   "metadata": {},
   "outputs": [
    {
     "data": {
      "text/plain": [
       "KNeighborsClassifier(metric='manhattan', n_neighbors=6)"
      ]
     },
     "execution_count": 18,
     "metadata": {},
     "output_type": "execute_result"
    }
   ],
   "source": [
    "grid_search.best_estimator_"
   ]
  },
  {
   "cell_type": "code",
   "execution_count": 19,
   "metadata": {},
   "outputs": [
    {
     "data": {
      "text/plain": [
       "0.7702472960146854"
      ]
     },
     "execution_count": 19,
     "metadata": {},
     "output_type": "execute_result"
    }
   ],
   "source": [
    "grid_search.best_score_"
   ]
  },
  {
   "cell_type": "markdown",
   "metadata": {},
   "source": [
    "### Generating Learning Curve with tuned Hyperparameters"
   ]
  },
  {
   "cell_type": "code",
   "execution_count": 23,
   "metadata": {},
   "outputs": [
    {
     "data": {
      "image/png": "[encoded data removed]",
      "text/plain": [
       "<Figure size 432x288 with 1 Axes>"
      ]
     },
     "metadata": {
      "needs_background": "light"
     },
     "output_type": "display_data"
    }
   ],
   "source": [
    "plot_learning_curve(KNeighborsClassifier(metric='manhattan', n_neighbors=6),  \"Learning curve-KNN Credit Tuned\", X_train, y_train, ylim=None, cv=4, n_jobs=-1)"
   ]
  },
  {
   "cell_type": "markdown",
   "metadata": {},
   "source": [
    "### Fitting classifier with best parameters and calculating test score"
   ]
  },
  {
   "cell_type": "code",
   "execution_count": 24,
   "metadata": {},
   "outputs": [],
   "source": [
    "# best_params = grid_search.cv_results_['params'][np.argmax(grid_search.cv_results_['mean_test_score'])]\n",
    "# best_clf = KNeighborsClassifier(**best_params)\n",
    "# best_clf.get_params()\n",
    "\n",
    "best_clf = KNeighborsClassifier(metric='manhattan', n_neighbors=6)"
   ]
  },
  {
   "cell_type": "code",
   "execution_count": 25,
   "metadata": {},
   "outputs": [
    {
     "name": "stdout",
     "output_type": "stream",
     "text": [
      "Train Accuracy:  0.8341374522735161\n",
      "Test Accuracy:  0.7402173913043478\n"
     ]
    }
   ],
   "source": [
    "best_clf.fit(X_train, y_train)\n",
    "y_train_pred = best_clf.predict(X_train)\n",
    "y_test_pred = best_clf.predict(X_test)\n",
    "print(\"Train Accuracy: \", balanced_accuracy_score(y_train, y_train_pred))\n",
    "print(\"Test Accuracy: \", balanced_accuracy_score(y_test, y_test_pred))"
   ]
  },
  {
   "cell_type": "code",
   "execution_count": null,
   "metadata": {},
   "outputs": [],
   "source": []
  }
 ],
 "metadata": {
  "kernelspec": {
   "display_name": "Python 3",
   "language": "python",
   "name": "python3"
  },
  "language_info": {
   "codemirror_mode": {
    "name": "ipython",
    "version": 3
   },
   "file_extension": ".py",
   "mimetype": "text/x-python",
   "name": "python",
   "nbconvert_exporter": "python",
   "pygments_lexer": "ipython3",
   "version": "3.8.5"
  }
 },
 "nbformat": 4,
 "nbformat_minor": 4
}
